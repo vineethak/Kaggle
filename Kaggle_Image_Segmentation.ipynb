{
 "cells": [
  {
   "cell_type": "code",
   "execution_count": 1,
   "metadata": {},
   "outputs": [],
   "source": [
    "import os\n",
    "import re\n",
    "import numpy as np\n",
    "import pandas as pd\n",
    "import matplotlib.pyplot as plt"
   ]
  },
  {
   "cell_type": "code",
   "execution_count": 2,
   "metadata": {},
   "outputs": [],
   "source": [
    "import cv2\n",
    "from PIL import Image\n",
    "from skimage.transform import resize\n",
    "from skimage.io import imsave\n",
    "from sklearn.model_selection import train_test_split"
   ]
  },
  {
   "cell_type": "code",
   "execution_count": 3,
   "metadata": {},
   "outputs": [
    {
     "name": "stderr",
     "output_type": "stream",
     "text": [
      "Using TensorFlow backend.\n"
     ]
    }
   ],
   "source": [
    "import tensorflow as tf\n",
    "import tensorflow\n",
    "from tensorflow import keras\n",
    "from keras.layers import Dense, Conv2D, Flatten\n",
    "\n",
    "from keras import backend as K"
   ]
  },
  {
   "cell_type": "code",
   "execution_count": 4,
   "metadata": {},
   "outputs": [],
   "source": [
    "from keras.models import Model\n",
    "from keras.layers import Input, concatenate, Conv2D, MaxPooling2D, Conv2DTranspose, Dropout, Activation\n",
    "from keras.optimizers import Adam\n",
    "from keras.callbacks import ModelCheckpoint\n",
    "from keras import backend as K"
   ]
  },
  {
   "cell_type": "code",
   "execution_count": 5,
   "metadata": {},
   "outputs": [],
   "source": [
    "K.set_image_data_format('channels_last')"
   ]
  },
  {
   "cell_type": "code",
   "execution_count": 6,
   "metadata": {},
   "outputs": [],
   "source": [
    "data_path = \"/home/root/share/ultrasound-nerve-segmentation.zip\""
   ]
  },
  {
   "cell_type": "code",
   "execution_count": null,
   "metadata": {},
   "outputs": [],
   "source": [
    "!mkdir /home/root/share/ultrasound-nerve-segmentation-1"
   ]
  },
  {
   "cell_type": "code",
   "execution_count": null,
   "metadata": {},
   "outputs": [],
   "source": [
    "!unzip /home/root/share/ultrasound-nerve-segmentation.zip -d /home/root/share/ultrasound-nerve-segmentation-1"
   ]
  },
  {
   "cell_type": "code",
   "execution_count": null,
   "metadata": {},
   "outputs": [],
   "source": [
    "!unzip /home/root/share/ultrasound-nerve-segmentation-1/train.zip \n",
    "!unzip /home/root/share/ultrasound-nerve-segmentation-1/test.zip"
   ]
  },
  {
   "cell_type": "code",
   "execution_count": null,
   "metadata": {},
   "outputs": [],
   "source": [
    "!ls /home/root/share"
   ]
  },
  {
   "cell_type": "code",
   "execution_count": 7,
   "metadata": {},
   "outputs": [],
   "source": [
    "data_path = \"/home/root/share/ultrasound-nerve-segmentation-1/\""
   ]
  },
  {
   "cell_type": "code",
   "execution_count": null,
   "metadata": {},
   "outputs": [],
   "source": [
    "!mkdir /home/root/share/ultrasound-nerve-segmentation-1/train_1\n",
    "!mkdir /home/root/share/ultrasound-nerve-segmentation-1/test_1\n",
    "\n",
    "!unzip /home/root/share/ultrasound-nerve-segmentation-1/train.zip -d /home/root/share/ultrasound-nerve-segmentation-1/train_1\n",
    "!unzip /home/root/share/ultrasound-nerve-segmentation-1/test.zip -d /home/root/share/ultrasound-nerve-segmentation-1/test_1"
   ]
  },
  {
   "cell_type": "markdown",
   "metadata": {},
   "source": [
    "In the train folder we have images and masks. Let us get them into seperate lists to hel us in the training."
   ]
  },
  {
   "cell_type": "code",
   "execution_count": 8,
   "metadata": {},
   "outputs": [],
   "source": [
    "train_data_path = \"/home/root/share/ultrasound-nerve-segmentation-1/train_1/train/\"\n",
    "test_data_path = \"/home/root/share/ultrasound-nerve-segmentation-1/test_1/test/\""
   ]
  },
  {
   "cell_type": "code",
   "execution_count": 9,
   "metadata": {},
   "outputs": [],
   "source": [
    "def get_train_test_data(train_data_path, test_data_path):\n",
    "    train_data_files = os.listdir(train_data_path)\n",
    "    train = []\n",
    "    train_mask = []\n",
    "    train_files = []\n",
    "    test_id = []\n",
    "    #adding images and masks to seperate lists.\n",
    "    for image_file_name in train_data_files:\n",
    "        if 'mask' in image_file_name:\n",
    "            continue\n",
    "        \n",
    "        image_mask_name = image_file_name.split('.')[0] + '_mask.tif'\n",
    "        train.append((np.array(Image.open(train_data_path + image_file_name))))\n",
    "        train_mask.append((np.array(Image.open(train_data_path + image_mask_name))))\n",
    "        train_files.append(image_file_name)\n",
    "        \n",
    "    #Handling test data\n",
    "    test_data_files = os.listdir(test_data_path)\n",
    "    test = []    \n",
    "    for image_file_name in test_data_files:\n",
    "        test.append((np.array(Image.open(test_data_path + image_file_name))))\n",
    "        test_id.append(int(image_file_name.split('.')[0]))\n",
    "        \n",
    "    return train, train_mask ,test, train_files, test_id"
   ]
  },
  {
   "cell_type": "code",
   "execution_count": 10,
   "metadata": {},
   "outputs": [],
   "source": [
    "X_train , y_train , X_test, train_file_names, test_id = get_train_test_data(train_data_path, test_data_path)"
   ]
  },
  {
   "cell_type": "markdown",
   "metadata": {},
   "source": [
    "lets check for a random image"
   ]
  },
  {
   "cell_type": "code",
   "execution_count": null,
   "metadata": {},
   "outputs": [],
   "source": [
    "index = 28\n",
    "\n",
    "image1 = X_train[index]\n",
    "image1_mask  = y_train[index]\n",
    "orig_file_name = train_file_names[index]\n",
    "image1_orig = np.array(Image.open(train_data_path + orig_file_name)) \n",
    "image1_orig_mask = np.array(Image.open(train_data_path + orig_file_name.split('.')[0] + '_mask.tif'))\n",
    "fig, ax = plt.subplots(2,2,figsize = (16,12))\n",
    "ax[0][0].imshow(image1, cmap = 'gray')\n",
    "ax[0][1].imshow(image1_mask, cmap = 'gray')\n",
    "ax[1][0].imshow(image1_orig, cmap = 'gray')\n",
    "ax[1][1].imshow(image1_orig_mask, cmap = 'gray')"
   ]
  },
  {
   "cell_type": "code",
   "execution_count": null,
   "metadata": {},
   "outputs": [],
   "source": [
    "np.array(X_train).shape"
   ]
  },
  {
   "cell_type": "markdown",
   "metadata": {},
   "source": [
    "Lets check how to view train_mask.csv"
   ]
  },
  {
   "cell_type": "code",
   "execution_count": 11,
   "metadata": {},
   "outputs": [
    {
     "data": {
      "text/html": [
       "<div>\n",
       "<style scoped>\n",
       "    .dataframe tbody tr th:only-of-type {\n",
       "        vertical-align: middle;\n",
       "    }\n",
       "\n",
       "    .dataframe tbody tr th {\n",
       "        vertical-align: top;\n",
       "    }\n",
       "\n",
       "    .dataframe thead th {\n",
       "        text-align: right;\n",
       "    }\n",
       "</style>\n",
       "<table border=\"1\" class=\"dataframe\">\n",
       "  <thead>\n",
       "    <tr style=\"text-align: right;\">\n",
       "      <th></th>\n",
       "      <th>subject</th>\n",
       "      <th>img</th>\n",
       "      <th>pixels</th>\n",
       "    </tr>\n",
       "  </thead>\n",
       "  <tbody>\n",
       "    <tr>\n",
       "      <th>0</th>\n",
       "      <td>1</td>\n",
       "      <td>1</td>\n",
       "      <td>168153 9 168570 15 168984 22 169401 26 169818 ...</td>\n",
       "    </tr>\n",
       "    <tr>\n",
       "      <th>1</th>\n",
       "      <td>1</td>\n",
       "      <td>2</td>\n",
       "      <td>96346 7 96762 16 97179 27 97595 35 98012 40 98...</td>\n",
       "    </tr>\n",
       "    <tr>\n",
       "      <th>2</th>\n",
       "      <td>1</td>\n",
       "      <td>3</td>\n",
       "      <td>121957 2 122365 26 122784 28 123202 31 123618 ...</td>\n",
       "    </tr>\n",
       "    <tr>\n",
       "      <th>3</th>\n",
       "      <td>1</td>\n",
       "      <td>4</td>\n",
       "      <td>110980 9 111393 21 111810 33 112228 43 112647 ...</td>\n",
       "    </tr>\n",
       "    <tr>\n",
       "      <th>4</th>\n",
       "      <td>1</td>\n",
       "      <td>5</td>\n",
       "      <td>NaN</td>\n",
       "    </tr>\n",
       "  </tbody>\n",
       "</table>\n",
       "</div>"
      ],
      "text/plain": [
       "   subject  img                                             pixels\n",
       "0        1    1  168153 9 168570 15 168984 22 169401 26 169818 ...\n",
       "1        1    2  96346 7 96762 16 97179 27 97595 35 98012 40 98...\n",
       "2        1    3  121957 2 122365 26 122784 28 123202 31 123618 ...\n",
       "3        1    4  110980 9 111393 21 111810 33 112228 43 112647 ...\n",
       "4        1    5                                                NaN"
      ]
     },
     "execution_count": 11,
     "metadata": {},
     "output_type": "execute_result"
    }
   ],
   "source": [
    "mask_df = pd.read_csv(\"/home/root/share/ultrasound-nerve-segmentation-1/train_masks.csv\")\n",
    "mask_df.head()"
   ]
  },
  {
   "cell_type": "code",
   "execution_count": 12,
   "metadata": {},
   "outputs": [],
   "source": [
    "image_width = 400\n",
    "image_height = 400"
   ]
  },
  {
   "cell_type": "code",
   "execution_count": 13,
   "metadata": {},
   "outputs": [],
   "source": [
    "def preprocess_img_data(X_train , y_train , X_test):\n",
    "    num_train_images = np.array(X_train).shape[0]\n",
    "    img_width = image_width\n",
    "    img_height = image_height\n",
    "    \n",
    "    imgs = np.ndarray((num_train_images, image_height, image_width), dtype=np.uint8)\n",
    "    imgs_mask = np.ndarray((num_train_images, image_height, image_width), dtype=np.uint8)\n",
    "    \n",
    "    for i in range(num_train_images):\n",
    "        imgs[i] = resize(X_train[i], (img_width, img_height), preserve_range=True)\n",
    "        imgs_mask[i] = resize(y_train[i], (img_width, img_height), preserve_range=True)\n",
    "\n",
    "    imgs = imgs[..., np.newaxis]\n",
    "    imgs_mask = imgs_mask[..., np.newaxis]\n",
    "    \n",
    "    num_test_images = np.array(X_test).shape[0]    \n",
    "    imgs_test =  np.ndarray((num_test_images, image_height, image_width), dtype=np.uint8)\n",
    "    \n",
    "    for i in range(num_test_images):\n",
    "        imgs_test[i] = resize(X_test[i], (img_width, img_height), preserve_range=True)\n",
    "    \n",
    "    imgs_test = imgs_test[..., np.newaxis]\n",
    "    \n",
    "    #data normalization , mean centric\n",
    "    imgs_train = imgs.astype('float32')\n",
    "    mean = np.mean(imgs_train)  # mean for data centering\n",
    "    std = np.std(imgs_train)  # std for data normalization\n",
    "    \n",
    "    imgs_train -= mean\n",
    "    imgs_train /= std\n",
    "    \n",
    "    imgs_mask_train = imgs_mask.astype('float32')\n",
    "    imgs_mask_train /= 255.  # scale masks to [0, 1]\n",
    "    \n",
    "    imgs_test = imgs_test.astype('float32')\n",
    "    imgs_test -= mean\n",
    "    imgs_test /= std\n",
    "    \n",
    "    return imgs_train, imgs_mask_train, imgs_test"
   ]
  },
  {
   "cell_type": "code",
   "execution_count": 14,
   "metadata": {},
   "outputs": [],
   "source": [
    "def dice_coef(y_true , y_pred):\n",
    "    smooth = 1.\n",
    "    y_true_f = K.flatten(y_true)\n",
    "    y_pred_f = K.flatten(y_pred)\n",
    "    intersection = K.sum(y_true_f * y_pred_f)\n",
    "    return (2. * intersection + smooth) / (K.sum(y_true_f) + K.sum(y_pred_f) + smooth) "
   ]
  },
  {
   "cell_type": "code",
   "execution_count": 15,
   "metadata": {},
   "outputs": [],
   "source": [
    "def dice_coef_loss(y_true, y_pred):\n",
    "    return -dice_coef(y_true, y_pred)"
   ]
  },
  {
   "cell_type": "code",
   "execution_count": 16,
   "metadata": {},
   "outputs": [],
   "source": [
    "def add2Conv2D_blocks(input_tensor, n_filters, kernel_size = 3, batchnorm = True):\n",
    "    \"\"\"Function to add 2 convolutional layers with the parameters passed to it\"\"\"\n",
    "    # first layer\n",
    "    x = Conv2D(filters = n_filters, kernel_size = (kernel_size, kernel_size),\\\n",
    "              kernel_initializer = 'he_normal', padding = 'same')(input_tensor)\n",
    "    if batchnorm:\n",
    "        x = BatchNormalization()(x)\n",
    "    x = Activation('relu')(x)\n",
    "    \n",
    "    # second layer\n",
    "    x = Conv2D(filters = n_filters, kernel_size = (kernel_size, kernel_size),\\\n",
    "              kernel_initializer = 'he_normal', padding = 'same')(input_tensor)\n",
    "    if batchnorm:\n",
    "        x = BatchNormalization()(x)\n",
    "    x = Activation('relu')(x)\n",
    "    \n",
    "    return x\n",
    "    \n",
    "\n",
    "def unet_model(height, width, n_filters = 16 , dropout = 0.1):\n",
    "    \n",
    "    input_tensor = Input((height, width, 1))\n",
    "    \n",
    "    #forward path (normal CNN)\n",
    "    \n",
    "    c1 = add2Conv2D_blocks(input_tensor, n_filters * 1 , kernel_size = 3, batchnorm=False)\n",
    "    p1 = MaxPooling2D((2, 2))(c1)\n",
    "    p1 = Dropout(dropout)(p1)\n",
    "    \n",
    "    c2 = add2Conv2D_blocks(p1, n_filters * 2 , kernel_size = 3, batchnorm=False)\n",
    "    p2 = MaxPooling2D((2, 2))(c2)\n",
    "    p2 = Dropout(dropout)(p2)\n",
    "    \n",
    "    c3 = add2Conv2D_blocks(p2, n_filters * 4 , kernel_size = 3, batchnorm=False)\n",
    "    p3 = MaxPooling2D((2, 2))(c3)\n",
    "    p3 = Dropout(dropout)(p3)\n",
    "    \n",
    "    c4 = add2Conv2D_blocks(p3, n_filters * 8 , kernel_size = 3, batchnorm=False)\n",
    "    p4 = MaxPooling2D((2, 2))(c4)\n",
    "    p4 = Dropout(dropout)(p4)\n",
    "    \n",
    "    c5 = add2Conv2D_blocks(p4, n_filters * 16 , kernel_size = 3, batchnorm=False)\n",
    "    \n",
    "    # reverse path - expansion\n",
    "    u6 = Conv2DTranspose(n_filters * 8, (3, 3), strides = (2, 2), padding = 'same')(c5)\n",
    "    u6 = concatenate([u6, c4])\n",
    "    u6 = Dropout(dropout)(u6)\n",
    "    c6 = add2Conv2D_blocks(u6, n_filters * 8, kernel_size = 3, batchnorm = False)\n",
    "    \n",
    "    u7 = Conv2DTranspose(n_filters * 4, (3, 3), strides = (2, 2), padding = 'same')(c6)\n",
    "    u7 = concatenate([u7, c3])\n",
    "    u7 = Dropout(dropout)(u7)\n",
    "    c7 = add2Conv2D_blocks(u7, n_filters * 4, kernel_size = 3, batchnorm = False)\n",
    "    \n",
    "    u8 = Conv2DTranspose(n_filters * 2, (3, 3), strides = (2, 2), padding = 'same')(c7)\n",
    "    u8 = concatenate([u8, c2])\n",
    "    u8 = Dropout(dropout)(u8)\n",
    "    c8 = add2Conv2D_blocks(u8, n_filters * 2, kernel_size = 3, batchnorm = False)\n",
    "    \n",
    "    u9 = Conv2DTranspose(n_filters * 1, (3, 3), strides = (2, 2), padding = 'same')(c8)\n",
    "    u9 = concatenate([u9, c1])\n",
    "    u9 = Dropout(dropout)(u9)\n",
    "    c9 = add2Conv2D_blocks(u9, n_filters * 1, kernel_size = 3, batchnorm = False)\n",
    "    \n",
    "    outputs = Conv2D(1, (1, 1), activation='sigmoid')(c9)\n",
    "    model = Model(inputs=[input_tensor], outputs=[outputs])\n",
    "    model.compile(optimizer=Adam(lr=1e-5), loss=dice_coef_loss, metrics=[dice_coef])\n",
    "    \n",
    "    return model"
   ]
  },
  {
   "cell_type": "code",
   "execution_count": 17,
   "metadata": {},
   "outputs": [
    {
     "name": "stderr",
     "output_type": "stream",
     "text": [
      "/usr/local/lib/python3.6/dist-packages/skimage/transform/_warps.py:105: UserWarning: The default mode, 'constant', will be changed to 'reflect' in skimage 0.15.\n",
      "  warn(\"The default mode, 'constant', will be changed to 'reflect' in \"\n",
      "/usr/local/lib/python3.6/dist-packages/skimage/transform/_warps.py:110: UserWarning: Anti-aliasing will be enabled by default in skimage 0.15 to avoid aliasing artifacts when down-sampling images.\n",
      "  warn(\"Anti-aliasing will be enabled by default in skimage 0.15 to \"\n"
     ]
    }
   ],
   "source": [
    "imgs_train, imgs_mask_train, imgs_test = preprocess_img_data(X_train , y_train , X_test)"
   ]
  },
  {
   "cell_type": "code",
   "execution_count": 38,
   "metadata": {},
   "outputs": [],
   "source": [
    "ModelCheckpoint?"
   ]
  },
  {
   "cell_type": "code",
   "execution_count": 44,
   "metadata": {
    "scrolled": false
   },
   "outputs": [
    {
     "name": "stdout",
     "output_type": "stream",
     "text": [
      "------------------------------\n",
      "Fitting model...\n",
      "------------------------------\n"
     ]
    },
    {
     "name": "stderr",
     "output_type": "stream",
     "text": [
      "/usr/local/lib/python3.6/dist-packages/ipykernel_launcher.py:11: UserWarning: The `nb_epoch` argument in `fit` has been renamed `epochs`.\n",
      "  # This is added back by InteractiveShellApp.init_path()\n"
     ]
    },
    {
     "name": "stdout",
     "output_type": "stream",
     "text": [
      "Train on 4508 samples, validate on 1127 samples\n",
      "Epoch 1/100\n",
      "4508/4508 [==============================] - 40s 9ms/step - loss: -0.0258 - dice_coef: 0.0258 - val_loss: -0.0293 - val_dice_coef: 0.0293\n",
      "Epoch 2/100\n",
      " 800/4508 [====>.........................] - ETA: 25s - loss: -0.0292 - dice_coef: 0.0292"
     ]
    },
    {
     "ename": "KeyboardInterrupt",
     "evalue": "",
     "output_type": "error",
     "traceback": [
      "\u001b[0;31m---------------------------------------------------------------------------\u001b[0m",
      "\u001b[0;31mKeyboardInterrupt\u001b[0m                         Traceback (most recent call last)",
      "\u001b[0;32m<ipython-input-44-cd99bb27620f>\u001b[0m in \u001b[0;36m<module>\u001b[0;34m\u001b[0m\n\u001b[1;32m      9\u001b[0m model.fit(imgs_train, imgs_mask_train, batch_size=32, nb_epoch=100, verbose=1, shuffle=True,\n\u001b[1;32m     10\u001b[0m               \u001b[0mvalidation_split\u001b[0m\u001b[0;34m=\u001b[0m\u001b[0;36m0.2\u001b[0m\u001b[0;34m,\u001b[0m\u001b[0;34m\u001b[0m\u001b[0;34m\u001b[0m\u001b[0m\n\u001b[0;32m---> 11\u001b[0;31m               callbacks=[model_checkpoint, es])\n\u001b[0m",
      "\u001b[0;32m/usr/local/lib/python3.6/dist-packages/keras/engine/training.py\u001b[0m in \u001b[0;36mfit\u001b[0;34m(self, x, y, batch_size, epochs, verbose, callbacks, validation_split, validation_data, shuffle, class_weight, sample_weight, initial_epoch, steps_per_epoch, validation_steps, **kwargs)\u001b[0m\n\u001b[1;32m   1037\u001b[0m                                         \u001b[0minitial_epoch\u001b[0m\u001b[0;34m=\u001b[0m\u001b[0minitial_epoch\u001b[0m\u001b[0;34m,\u001b[0m\u001b[0;34m\u001b[0m\u001b[0;34m\u001b[0m\u001b[0m\n\u001b[1;32m   1038\u001b[0m                                         \u001b[0msteps_per_epoch\u001b[0m\u001b[0;34m=\u001b[0m\u001b[0msteps_per_epoch\u001b[0m\u001b[0;34m,\u001b[0m\u001b[0;34m\u001b[0m\u001b[0;34m\u001b[0m\u001b[0m\n\u001b[0;32m-> 1039\u001b[0;31m                                         validation_steps=validation_steps)\n\u001b[0m\u001b[1;32m   1040\u001b[0m \u001b[0;34m\u001b[0m\u001b[0m\n\u001b[1;32m   1041\u001b[0m     def evaluate(self, x=None, y=None,\n",
      "\u001b[0;32m/usr/local/lib/python3.6/dist-packages/keras/engine/training_arrays.py\u001b[0m in \u001b[0;36mfit_loop\u001b[0;34m(model, f, ins, out_labels, batch_size, epochs, verbose, callbacks, val_f, val_ins, shuffle, callback_metrics, initial_epoch, steps_per_epoch, validation_steps)\u001b[0m\n\u001b[1;32m    197\u001b[0m                     \u001b[0mins_batch\u001b[0m\u001b[0;34m[\u001b[0m\u001b[0mi\u001b[0m\u001b[0;34m]\u001b[0m \u001b[0;34m=\u001b[0m \u001b[0mins_batch\u001b[0m\u001b[0;34m[\u001b[0m\u001b[0mi\u001b[0m\u001b[0;34m]\u001b[0m\u001b[0;34m.\u001b[0m\u001b[0mtoarray\u001b[0m\u001b[0;34m(\u001b[0m\u001b[0;34m)\u001b[0m\u001b[0;34m\u001b[0m\u001b[0;34m\u001b[0m\u001b[0m\n\u001b[1;32m    198\u001b[0m \u001b[0;34m\u001b[0m\u001b[0m\n\u001b[0;32m--> 199\u001b[0;31m                 \u001b[0mouts\u001b[0m \u001b[0;34m=\u001b[0m \u001b[0mf\u001b[0m\u001b[0;34m(\u001b[0m\u001b[0mins_batch\u001b[0m\u001b[0;34m)\u001b[0m\u001b[0;34m\u001b[0m\u001b[0;34m\u001b[0m\u001b[0m\n\u001b[0m\u001b[1;32m    200\u001b[0m                 \u001b[0mouts\u001b[0m \u001b[0;34m=\u001b[0m \u001b[0mto_list\u001b[0m\u001b[0;34m(\u001b[0m\u001b[0mouts\u001b[0m\u001b[0;34m)\u001b[0m\u001b[0;34m\u001b[0m\u001b[0;34m\u001b[0m\u001b[0m\n\u001b[1;32m    201\u001b[0m                 \u001b[0;32mfor\u001b[0m \u001b[0ml\u001b[0m\u001b[0;34m,\u001b[0m \u001b[0mo\u001b[0m \u001b[0;32min\u001b[0m \u001b[0mzip\u001b[0m\u001b[0;34m(\u001b[0m\u001b[0mout_labels\u001b[0m\u001b[0;34m,\u001b[0m \u001b[0mouts\u001b[0m\u001b[0;34m)\u001b[0m\u001b[0;34m:\u001b[0m\u001b[0;34m\u001b[0m\u001b[0;34m\u001b[0m\u001b[0m\n",
      "\u001b[0;32m/usr/local/lib/python3.6/dist-packages/keras/backend/tensorflow_backend.py\u001b[0m in \u001b[0;36m__call__\u001b[0;34m(self, inputs)\u001b[0m\n\u001b[1;32m   2713\u001b[0m                 \u001b[0;32mreturn\u001b[0m \u001b[0mself\u001b[0m\u001b[0;34m.\u001b[0m\u001b[0m_legacy_call\u001b[0m\u001b[0;34m(\u001b[0m\u001b[0minputs\u001b[0m\u001b[0;34m)\u001b[0m\u001b[0;34m\u001b[0m\u001b[0;34m\u001b[0m\u001b[0m\n\u001b[1;32m   2714\u001b[0m \u001b[0;34m\u001b[0m\u001b[0m\n\u001b[0;32m-> 2715\u001b[0;31m             \u001b[0;32mreturn\u001b[0m \u001b[0mself\u001b[0m\u001b[0;34m.\u001b[0m\u001b[0m_call\u001b[0m\u001b[0;34m(\u001b[0m\u001b[0minputs\u001b[0m\u001b[0;34m)\u001b[0m\u001b[0;34m\u001b[0m\u001b[0;34m\u001b[0m\u001b[0m\n\u001b[0m\u001b[1;32m   2716\u001b[0m         \u001b[0;32melse\u001b[0m\u001b[0;34m:\u001b[0m\u001b[0;34m\u001b[0m\u001b[0;34m\u001b[0m\u001b[0m\n\u001b[1;32m   2717\u001b[0m             \u001b[0;32mif\u001b[0m \u001b[0mpy_any\u001b[0m\u001b[0;34m(\u001b[0m\u001b[0mis_tensor\u001b[0m\u001b[0;34m(\u001b[0m\u001b[0mx\u001b[0m\u001b[0;34m)\u001b[0m \u001b[0;32mfor\u001b[0m \u001b[0mx\u001b[0m \u001b[0;32min\u001b[0m \u001b[0minputs\u001b[0m\u001b[0;34m)\u001b[0m\u001b[0;34m:\u001b[0m\u001b[0;34m\u001b[0m\u001b[0;34m\u001b[0m\u001b[0m\n",
      "\u001b[0;32m/usr/local/lib/python3.6/dist-packages/keras/backend/tensorflow_backend.py\u001b[0m in \u001b[0;36m_call\u001b[0;34m(self, inputs)\u001b[0m\n\u001b[1;32m   2673\u001b[0m             \u001b[0mfetched\u001b[0m \u001b[0;34m=\u001b[0m \u001b[0mself\u001b[0m\u001b[0;34m.\u001b[0m\u001b[0m_callable_fn\u001b[0m\u001b[0;34m(\u001b[0m\u001b[0;34m*\u001b[0m\u001b[0marray_vals\u001b[0m\u001b[0;34m,\u001b[0m \u001b[0mrun_metadata\u001b[0m\u001b[0;34m=\u001b[0m\u001b[0mself\u001b[0m\u001b[0;34m.\u001b[0m\u001b[0mrun_metadata\u001b[0m\u001b[0;34m)\u001b[0m\u001b[0;34m\u001b[0m\u001b[0;34m\u001b[0m\u001b[0m\n\u001b[1;32m   2674\u001b[0m         \u001b[0;32melse\u001b[0m\u001b[0;34m:\u001b[0m\u001b[0;34m\u001b[0m\u001b[0;34m\u001b[0m\u001b[0m\n\u001b[0;32m-> 2675\u001b[0;31m             \u001b[0mfetched\u001b[0m \u001b[0;34m=\u001b[0m \u001b[0mself\u001b[0m\u001b[0;34m.\u001b[0m\u001b[0m_callable_fn\u001b[0m\u001b[0;34m(\u001b[0m\u001b[0;34m*\u001b[0m\u001b[0marray_vals\u001b[0m\u001b[0;34m)\u001b[0m\u001b[0;34m\u001b[0m\u001b[0;34m\u001b[0m\u001b[0m\n\u001b[0m\u001b[1;32m   2676\u001b[0m         \u001b[0;32mreturn\u001b[0m \u001b[0mfetched\u001b[0m\u001b[0;34m[\u001b[0m\u001b[0;34m:\u001b[0m\u001b[0mlen\u001b[0m\u001b[0;34m(\u001b[0m\u001b[0mself\u001b[0m\u001b[0;34m.\u001b[0m\u001b[0moutputs\u001b[0m\u001b[0;34m)\u001b[0m\u001b[0;34m]\u001b[0m\u001b[0;34m\u001b[0m\u001b[0;34m\u001b[0m\u001b[0m\n\u001b[1;32m   2677\u001b[0m \u001b[0;34m\u001b[0m\u001b[0m\n",
      "\u001b[0;32m/usr/local/lib/python3.6/dist-packages/tensorflow/python/client/session.py\u001b[0m in \u001b[0;36m__call__\u001b[0;34m(self, *args, **kwargs)\u001b[0m\n\u001b[1;32m   1437\u001b[0m           ret = tf_session.TF_SessionRunCallable(\n\u001b[1;32m   1438\u001b[0m               \u001b[0mself\u001b[0m\u001b[0;34m.\u001b[0m\u001b[0m_session\u001b[0m\u001b[0;34m.\u001b[0m\u001b[0m_session\u001b[0m\u001b[0;34m,\u001b[0m \u001b[0mself\u001b[0m\u001b[0;34m.\u001b[0m\u001b[0m_handle\u001b[0m\u001b[0;34m,\u001b[0m \u001b[0margs\u001b[0m\u001b[0;34m,\u001b[0m \u001b[0mstatus\u001b[0m\u001b[0;34m,\u001b[0m\u001b[0;34m\u001b[0m\u001b[0;34m\u001b[0m\u001b[0m\n\u001b[0;32m-> 1439\u001b[0;31m               run_metadata_ptr)\n\u001b[0m\u001b[1;32m   1440\u001b[0m         \u001b[0;32mif\u001b[0m \u001b[0mrun_metadata\u001b[0m\u001b[0;34m:\u001b[0m\u001b[0;34m\u001b[0m\u001b[0;34m\u001b[0m\u001b[0m\n\u001b[1;32m   1441\u001b[0m           \u001b[0mproto_data\u001b[0m \u001b[0;34m=\u001b[0m \u001b[0mtf_session\u001b[0m\u001b[0;34m.\u001b[0m\u001b[0mTF_GetBuffer\u001b[0m\u001b[0;34m(\u001b[0m\u001b[0mrun_metadata_ptr\u001b[0m\u001b[0;34m)\u001b[0m\u001b[0;34m\u001b[0m\u001b[0;34m\u001b[0m\u001b[0m\n",
      "\u001b[0;31mKeyboardInterrupt\u001b[0m: "
     ]
    }
   ],
   "source": [
    "model = unet_model(image_height, image_width)\n",
    "model_checkpoint = ModelCheckpoint('weights.h5', monitor='val_dice_coef', save_best_only=True, mode='max', verbose=1)\n",
    "es = keras.callbacks.EarlyStopping(monitor='val_dice_coef',\n",
    "                              patience=5, mode='max')\n",
    "\n",
    "print('-'*30)\n",
    "print('Fitting model...')\n",
    "print('-'*30)\n",
    "model.fit(imgs_train, imgs_mask_train, batch_size=32, nb_epoch=100, verbose=1, shuffle=True,\n",
    "              validation_split=0.2,\n",
    "              callbacks=[model_checkpoint, es])"
   ]
  },
  {
   "cell_type": "code",
   "execution_count": null,
   "metadata": {},
   "outputs": [],
   "source": []
  },
  {
   "cell_type": "code",
   "execution_count": 19,
   "metadata": {},
   "outputs": [
    {
     "name": "stdout",
     "output_type": "stream",
     "text": [
      "------------------------------\n",
      "Loading saved weights...\n",
      "------------------------------\n",
      "------------------------------\n",
      "Predicting masks on test data...\n",
      "------------------------------\n",
      "5508/5508 [==============================] - 17s 3ms/step\n"
     ]
    }
   ],
   "source": [
    "print('-'*30)\n",
    "print('Loading saved weights...')\n",
    "print('-'*30)\n",
    "model.load_weights('weights.h5')\n",
    "\n",
    "print('-'*30)\n",
    "print('Predicting masks on test data...')\n",
    "print('-'*30)\n",
    "imgs_mask_test = model.predict(imgs_test, verbose=1)\n",
    "np.save('imgs_mask_test.npy', imgs_mask_test)"
   ]
  },
  {
   "cell_type": "code",
   "execution_count": 20,
   "metadata": {
    "scrolled": true
   },
   "outputs": [
    {
     "name": "stdout",
     "output_type": "stream",
     "text": [
      "------------------------------\n",
      "Saving predicted masks to files...\n",
      "------------------------------\n"
     ]
    },
    {
     "name": "stderr",
     "output_type": "stream",
     "text": [
      "/usr/local/lib/python3.6/dist-packages/skimage/io/_io.py:140: UserWarning: preds_vinny/3697_pred.png is a low contrast image\n",
      "  warn('%s is a low contrast image' % fname)\n",
      "/usr/local/lib/python3.6/dist-packages/skimage/io/_io.py:140: UserWarning: preds_vinny/4402_pred.png is a low contrast image\n",
      "  warn('%s is a low contrast image' % fname)\n",
      "/usr/local/lib/python3.6/dist-packages/skimage/io/_io.py:140: UserWarning: preds_vinny/619_pred.png is a low contrast image\n",
      "  warn('%s is a low contrast image' % fname)\n",
      "/usr/local/lib/python3.6/dist-packages/skimage/io/_io.py:140: UserWarning: preds_vinny/1741_pred.png is a low contrast image\n",
      "  warn('%s is a low contrast image' % fname)\n",
      "/usr/local/lib/python3.6/dist-packages/skimage/io/_io.py:140: UserWarning: preds_vinny/1509_pred.png is a low contrast image\n",
      "  warn('%s is a low contrast image' % fname)\n",
      "/usr/local/lib/python3.6/dist-packages/skimage/io/_io.py:140: UserWarning: preds_vinny/2125_pred.png is a low contrast image\n",
      "  warn('%s is a low contrast image' % fname)\n",
      "/usr/local/lib/python3.6/dist-packages/skimage/io/_io.py:140: UserWarning: preds_vinny/4259_pred.png is a low contrast image\n",
      "  warn('%s is a low contrast image' % fname)\n",
      "/usr/local/lib/python3.6/dist-packages/skimage/io/_io.py:140: UserWarning: preds_vinny/5465_pred.png is a low contrast image\n",
      "  warn('%s is a low contrast image' % fname)\n",
      "/usr/local/lib/python3.6/dist-packages/skimage/io/_io.py:140: UserWarning: preds_vinny/2469_pred.png is a low contrast image\n",
      "  warn('%s is a low contrast image' % fname)\n",
      "/usr/local/lib/python3.6/dist-packages/skimage/io/_io.py:140: UserWarning: preds_vinny/3371_pred.png is a low contrast image\n",
      "  warn('%s is a low contrast image' % fname)\n",
      "/usr/local/lib/python3.6/dist-packages/skimage/io/_io.py:140: UserWarning: preds_vinny/2363_pred.png is a low contrast image\n",
      "  warn('%s is a low contrast image' % fname)\n",
      "/usr/local/lib/python3.6/dist-packages/skimage/io/_io.py:140: UserWarning: preds_vinny/4149_pred.png is a low contrast image\n",
      "  warn('%s is a low contrast image' % fname)\n",
      "/usr/local/lib/python3.6/dist-packages/skimage/io/_io.py:140: UserWarning: preds_vinny/489_pred.png is a low contrast image\n",
      "  warn('%s is a low contrast image' % fname)\n",
      "/usr/local/lib/python3.6/dist-packages/skimage/io/_io.py:140: UserWarning: preds_vinny/2272_pred.png is a low contrast image\n",
      "  warn('%s is a low contrast image' % fname)\n",
      "/usr/local/lib/python3.6/dist-packages/skimage/io/_io.py:140: UserWarning: preds_vinny/1292_pred.png is a low contrast image\n",
      "  warn('%s is a low contrast image' % fname)\n",
      "/usr/local/lib/python3.6/dist-packages/skimage/io/_io.py:140: UserWarning: preds_vinny/154_pred.png is a low contrast image\n",
      "  warn('%s is a low contrast image' % fname)\n",
      "/usr/local/lib/python3.6/dist-packages/skimage/io/_io.py:140: UserWarning: preds_vinny/4837_pred.png is a low contrast image\n",
      "  warn('%s is a low contrast image' % fname)\n",
      "/usr/local/lib/python3.6/dist-packages/skimage/io/_io.py:140: UserWarning: preds_vinny/2427_pred.png is a low contrast image\n",
      "  warn('%s is a low contrast image' % fname)\n",
      "/usr/local/lib/python3.6/dist-packages/skimage/io/_io.py:140: UserWarning: preds_vinny/5202_pred.png is a low contrast image\n",
      "  warn('%s is a low contrast image' % fname)\n",
      "/usr/local/lib/python3.6/dist-packages/skimage/io/_io.py:140: UserWarning: preds_vinny/4175_pred.png is a low contrast image\n",
      "  warn('%s is a low contrast image' % fname)\n",
      "/usr/local/lib/python3.6/dist-packages/skimage/io/_io.py:140: UserWarning: preds_vinny/1236_pred.png is a low contrast image\n",
      "  warn('%s is a low contrast image' % fname)\n",
      "/usr/local/lib/python3.6/dist-packages/skimage/io/_io.py:140: UserWarning: preds_vinny/686_pred.png is a low contrast image\n",
      "  warn('%s is a low contrast image' % fname)\n",
      "/usr/local/lib/python3.6/dist-packages/skimage/io/_io.py:140: UserWarning: preds_vinny/1681_pred.png is a low contrast image\n",
      "  warn('%s is a low contrast image' % fname)\n",
      "/usr/local/lib/python3.6/dist-packages/skimage/io/_io.py:140: UserWarning: preds_vinny/1998_pred.png is a low contrast image\n",
      "  warn('%s is a low contrast image' % fname)\n",
      "/usr/local/lib/python3.6/dist-packages/skimage/io/_io.py:140: UserWarning: preds_vinny/2335_pred.png is a low contrast image\n",
      "  warn('%s is a low contrast image' % fname)\n",
      "/usr/local/lib/python3.6/dist-packages/skimage/io/_io.py:140: UserWarning: preds_vinny/3662_pred.png is a low contrast image\n",
      "  warn('%s is a low contrast image' % fname)\n",
      "/usr/local/lib/python3.6/dist-packages/skimage/io/_io.py:140: UserWarning: preds_vinny/2670_pred.png is a low contrast image\n",
      "  warn('%s is a low contrast image' % fname)\n",
      "/usr/local/lib/python3.6/dist-packages/skimage/io/_io.py:140: UserWarning: preds_vinny/4977_pred.png is a low contrast image\n",
      "  warn('%s is a low contrast image' % fname)\n",
      "/usr/local/lib/python3.6/dist-packages/skimage/io/_io.py:140: UserWarning: preds_vinny/646_pred.png is a low contrast image\n",
      "  warn('%s is a low contrast image' % fname)\n",
      "/usr/local/lib/python3.6/dist-packages/skimage/io/_io.py:140: UserWarning: preds_vinny/4736_pred.png is a low contrast image\n",
      "  warn('%s is a low contrast image' % fname)\n",
      "/usr/local/lib/python3.6/dist-packages/skimage/io/_io.py:140: UserWarning: preds_vinny/923_pred.png is a low contrast image\n",
      "  warn('%s is a low contrast image' % fname)\n",
      "/usr/local/lib/python3.6/dist-packages/skimage/io/_io.py:140: UserWarning: preds_vinny/2444_pred.png is a low contrast image\n",
      "  warn('%s is a low contrast image' % fname)\n",
      "/usr/local/lib/python3.6/dist-packages/skimage/io/_io.py:140: UserWarning: preds_vinny/4322_pred.png is a low contrast image\n",
      "  warn('%s is a low contrast image' % fname)\n",
      "/usr/local/lib/python3.6/dist-packages/skimage/io/_io.py:140: UserWarning: preds_vinny/956_pred.png is a low contrast image\n",
      "  warn('%s is a low contrast image' % fname)\n",
      "/usr/local/lib/python3.6/dist-packages/skimage/io/_io.py:140: UserWarning: preds_vinny/2190_pred.png is a low contrast image\n",
      "  warn('%s is a low contrast image' % fname)\n",
      "/usr/local/lib/python3.6/dist-packages/skimage/io/_io.py:140: UserWarning: preds_vinny/4771_pred.png is a low contrast image\n",
      "  warn('%s is a low contrast image' % fname)\n",
      "/usr/local/lib/python3.6/dist-packages/skimage/io/_io.py:140: UserWarning: preds_vinny/3463_pred.png is a low contrast image\n",
      "  warn('%s is a low contrast image' % fname)\n",
      "/usr/local/lib/python3.6/dist-packages/skimage/io/_io.py:140: UserWarning: preds_vinny/4297_pred.png is a low contrast image\n",
      "  warn('%s is a low contrast image' % fname)\n",
      "/usr/local/lib/python3.6/dist-packages/skimage/io/_io.py:140: UserWarning: preds_vinny/2482_pred.png is a low contrast image\n",
      "  warn('%s is a low contrast image' % fname)\n",
      "/usr/local/lib/python3.6/dist-packages/skimage/io/_io.py:140: UserWarning: preds_vinny/597_pred.png is a low contrast image\n",
      "  warn('%s is a low contrast image' % fname)\n",
      "/usr/local/lib/python3.6/dist-packages/skimage/io/_io.py:140: UserWarning: preds_vinny/3441_pred.png is a low contrast image\n",
      "  warn('%s is a low contrast image' % fname)\n",
      "/usr/local/lib/python3.6/dist-packages/skimage/io/_io.py:140: UserWarning: preds_vinny/313_pred.png is a low contrast image\n",
      "  warn('%s is a low contrast image' % fname)\n",
      "/usr/local/lib/python3.6/dist-packages/skimage/io/_io.py:140: UserWarning: preds_vinny/1772_pred.png is a low contrast image\n",
      "  warn('%s is a low contrast image' % fname)\n",
      "/usr/local/lib/python3.6/dist-packages/skimage/io/_io.py:140: UserWarning: preds_vinny/3103_pred.png is a low contrast image\n",
      "  warn('%s is a low contrast image' % fname)\n",
      "/usr/local/lib/python3.6/dist-packages/skimage/io/_io.py:140: UserWarning: preds_vinny/4726_pred.png is a low contrast image\n",
      "  warn('%s is a low contrast image' % fname)\n",
      "/usr/local/lib/python3.6/dist-packages/skimage/io/_io.py:140: UserWarning: preds_vinny/3171_pred.png is a low contrast image\n",
      "  warn('%s is a low contrast image' % fname)\n",
      "/usr/local/lib/python3.6/dist-packages/skimage/io/_io.py:140: UserWarning: preds_vinny/700_pred.png is a low contrast image\n",
      "  warn('%s is a low contrast image' % fname)\n",
      "/usr/local/lib/python3.6/dist-packages/skimage/io/_io.py:140: UserWarning: preds_vinny/5456_pred.png is a low contrast image\n",
      "  warn('%s is a low contrast image' % fname)\n",
      "/usr/local/lib/python3.6/dist-packages/skimage/io/_io.py:140: UserWarning: preds_vinny/5320_pred.png is a low contrast image\n",
      "  warn('%s is a low contrast image' % fname)\n",
      "/usr/local/lib/python3.6/dist-packages/skimage/io/_io.py:140: UserWarning: preds_vinny/1623_pred.png is a low contrast image\n",
      "  warn('%s is a low contrast image' % fname)\n",
      "/usr/local/lib/python3.6/dist-packages/skimage/io/_io.py:140: UserWarning: preds_vinny/4555_pred.png is a low contrast image\n",
      "  warn('%s is a low contrast image' % fname)\n",
      "/usr/local/lib/python3.6/dist-packages/skimage/io/_io.py:140: UserWarning: preds_vinny/2994_pred.png is a low contrast image\n",
      "  warn('%s is a low contrast image' % fname)\n",
      "/usr/local/lib/python3.6/dist-packages/skimage/io/_io.py:140: UserWarning: preds_vinny/3640_pred.png is a low contrast image\n",
      "  warn('%s is a low contrast image' % fname)\n",
      "/usr/local/lib/python3.6/dist-packages/skimage/io/_io.py:140: UserWarning: preds_vinny/1562_pred.png is a low contrast image\n",
      "  warn('%s is a low contrast image' % fname)\n",
      "/usr/local/lib/python3.6/dist-packages/skimage/io/_io.py:140: UserWarning: preds_vinny/497_pred.png is a low contrast image\n",
      "  warn('%s is a low contrast image' % fname)\n",
      "/usr/local/lib/python3.6/dist-packages/skimage/io/_io.py:140: UserWarning: preds_vinny/4291_pred.png is a low contrast image\n",
      "  warn('%s is a low contrast image' % fname)\n",
      "/usr/local/lib/python3.6/dist-packages/skimage/io/_io.py:140: UserWarning: preds_vinny/1787_pred.png is a low contrast image\n",
      "  warn('%s is a low contrast image' % fname)\n",
      "/usr/local/lib/python3.6/dist-packages/skimage/io/_io.py:140: UserWarning: preds_vinny/4247_pred.png is a low contrast image\n",
      "  warn('%s is a low contrast image' % fname)\n",
      "/usr/local/lib/python3.6/dist-packages/skimage/io/_io.py:140: UserWarning: preds_vinny/3546_pred.png is a low contrast image\n",
      "  warn('%s is a low contrast image' % fname)\n",
      "/usr/local/lib/python3.6/dist-packages/skimage/io/_io.py:140: UserWarning: preds_vinny/3071_pred.png is a low contrast image\n",
      "  warn('%s is a low contrast image' % fname)\n",
      "/usr/local/lib/python3.6/dist-packages/skimage/io/_io.py:140: UserWarning: preds_vinny/2308_pred.png is a low contrast image\n",
      "  warn('%s is a low contrast image' % fname)\n",
      "/usr/local/lib/python3.6/dist-packages/skimage/io/_io.py:140: UserWarning: preds_vinny/723_pred.png is a low contrast image\n",
      "  warn('%s is a low contrast image' % fname)\n",
      "/usr/local/lib/python3.6/dist-packages/skimage/io/_io.py:140: UserWarning: preds_vinny/3819_pred.png is a low contrast image\n",
      "  warn('%s is a low contrast image' % fname)\n",
      "/usr/local/lib/python3.6/dist-packages/skimage/io/_io.py:140: UserWarning: preds_vinny/1448_pred.png is a low contrast image\n",
      "  warn('%s is a low contrast image' % fname)\n",
      "/usr/local/lib/python3.6/dist-packages/skimage/io/_io.py:140: UserWarning: preds_vinny/3850_pred.png is a low contrast image\n",
      "  warn('%s is a low contrast image' % fname)\n",
      "/usr/local/lib/python3.6/dist-packages/skimage/io/_io.py:140: UserWarning: preds_vinny/3974_pred.png is a low contrast image\n",
      "  warn('%s is a low contrast image' % fname)\n",
      "/usr/local/lib/python3.6/dist-packages/skimage/io/_io.py:140: UserWarning: preds_vinny/2346_pred.png is a low contrast image\n",
      "  warn('%s is a low contrast image' % fname)\n",
      "/usr/local/lib/python3.6/dist-packages/skimage/io/_io.py:140: UserWarning: preds_vinny/2265_pred.png is a low contrast image\n",
      "  warn('%s is a low contrast image' % fname)\n",
      "/usr/local/lib/python3.6/dist-packages/skimage/io/_io.py:140: UserWarning: preds_vinny/3857_pred.png is a low contrast image\n",
      "  warn('%s is a low contrast image' % fname)\n",
      "/usr/local/lib/python3.6/dist-packages/skimage/io/_io.py:140: UserWarning: preds_vinny/4904_pred.png is a low contrast image\n",
      "  warn('%s is a low contrast image' % fname)\n",
      "/usr/local/lib/python3.6/dist-packages/skimage/io/_io.py:140: UserWarning: preds_vinny/3486_pred.png is a low contrast image\n",
      "  warn('%s is a low contrast image' % fname)\n",
      "/usr/local/lib/python3.6/dist-packages/skimage/io/_io.py:140: UserWarning: preds_vinny/3279_pred.png is a low contrast image\n",
      "  warn('%s is a low contrast image' % fname)\n",
      "/usr/local/lib/python3.6/dist-packages/skimage/io/_io.py:140: UserWarning: preds_vinny/3205_pred.png is a low contrast image\n",
      "  warn('%s is a low contrast image' % fname)\n",
      "/usr/local/lib/python3.6/dist-packages/skimage/io/_io.py:140: UserWarning: preds_vinny/1221_pred.png is a low contrast image\n",
      "  warn('%s is a low contrast image' % fname)\n",
      "/usr/local/lib/python3.6/dist-packages/skimage/io/_io.py:140: UserWarning: preds_vinny/1691_pred.png is a low contrast image\n",
      "  warn('%s is a low contrast image' % fname)\n",
      "/usr/local/lib/python3.6/dist-packages/skimage/io/_io.py:140: UserWarning: preds_vinny/2210_pred.png is a low contrast image\n",
      "  warn('%s is a low contrast image' % fname)\n",
      "/usr/local/lib/python3.6/dist-packages/skimage/io/_io.py:140: UserWarning: preds_vinny/334_pred.png is a low contrast image\n",
      "  warn('%s is a low contrast image' % fname)\n",
      "/usr/local/lib/python3.6/dist-packages/skimage/io/_io.py:140: UserWarning: preds_vinny/5372_pred.png is a low contrast image\n",
      "  warn('%s is a low contrast image' % fname)\n",
      "/usr/local/lib/python3.6/dist-packages/skimage/io/_io.py:140: UserWarning: preds_vinny/4295_pred.png is a low contrast image\n",
      "  warn('%s is a low contrast image' % fname)\n",
      "/usr/local/lib/python3.6/dist-packages/skimage/io/_io.py:140: UserWarning: preds_vinny/4411_pred.png is a low contrast image\n",
      "  warn('%s is a low contrast image' % fname)\n",
      "/usr/local/lib/python3.6/dist-packages/skimage/io/_io.py:140: UserWarning: preds_vinny/439_pred.png is a low contrast image\n",
      "  warn('%s is a low contrast image' % fname)\n",
      "/usr/local/lib/python3.6/dist-packages/skimage/io/_io.py:140: UserWarning: preds_vinny/5062_pred.png is a low contrast image\n",
      "  warn('%s is a low contrast image' % fname)\n",
      "/usr/local/lib/python3.6/dist-packages/skimage/io/_io.py:140: UserWarning: preds_vinny/3530_pred.png is a low contrast image\n",
      "  warn('%s is a low contrast image' % fname)\n",
      "/usr/local/lib/python3.6/dist-packages/skimage/io/_io.py:140: UserWarning: preds_vinny/1514_pred.png is a low contrast image\n",
      "  warn('%s is a low contrast image' % fname)\n",
      "/usr/local/lib/python3.6/dist-packages/skimage/io/_io.py:140: UserWarning: preds_vinny/2986_pred.png is a low contrast image\n",
      "  warn('%s is a low contrast image' % fname)\n",
      "/usr/local/lib/python3.6/dist-packages/skimage/io/_io.py:140: UserWarning: preds_vinny/1982_pred.png is a low contrast image\n",
      "  warn('%s is a low contrast image' % fname)\n",
      "/usr/local/lib/python3.6/dist-packages/skimage/io/_io.py:140: UserWarning: preds_vinny/3970_pred.png is a low contrast image\n",
      "  warn('%s is a low contrast image' % fname)\n",
      "/usr/local/lib/python3.6/dist-packages/skimage/io/_io.py:140: UserWarning: preds_vinny/2266_pred.png is a low contrast image\n",
      "  warn('%s is a low contrast image' % fname)\n",
      "/usr/local/lib/python3.6/dist-packages/skimage/io/_io.py:140: UserWarning: preds_vinny/4113_pred.png is a low contrast image\n",
      "  warn('%s is a low contrast image' % fname)\n",
      "/usr/local/lib/python3.6/dist-packages/skimage/io/_io.py:140: UserWarning: preds_vinny/954_pred.png is a low contrast image\n",
      "  warn('%s is a low contrast image' % fname)\n",
      "/usr/local/lib/python3.6/dist-packages/skimage/io/_io.py:140: UserWarning: preds_vinny/760_pred.png is a low contrast image\n",
      "  warn('%s is a low contrast image' % fname)\n",
      "/usr/local/lib/python3.6/dist-packages/skimage/io/_io.py:140: UserWarning: preds_vinny/5041_pred.png is a low contrast image\n",
      "  warn('%s is a low contrast image' % fname)\n",
      "/usr/local/lib/python3.6/dist-packages/skimage/io/_io.py:140: UserWarning: preds_vinny/1771_pred.png is a low contrast image\n",
      "  warn('%s is a low contrast image' % fname)\n",
      "/usr/local/lib/python3.6/dist-packages/skimage/io/_io.py:140: UserWarning: preds_vinny/2825_pred.png is a low contrast image\n",
      "  warn('%s is a low contrast image' % fname)\n",
      "/usr/local/lib/python3.6/dist-packages/skimage/io/_io.py:140: UserWarning: preds_vinny/1593_pred.png is a low contrast image\n",
      "  warn('%s is a low contrast image' % fname)\n",
      "/usr/local/lib/python3.6/dist-packages/skimage/io/_io.py:140: UserWarning: preds_vinny/4082_pred.png is a low contrast image\n",
      "  warn('%s is a low contrast image' % fname)\n",
      "/usr/local/lib/python3.6/dist-packages/skimage/io/_io.py:140: UserWarning: preds_vinny/4085_pred.png is a low contrast image\n",
      "  warn('%s is a low contrast image' % fname)\n",
      "/usr/local/lib/python3.6/dist-packages/skimage/io/_io.py:140: UserWarning: preds_vinny/158_pred.png is a low contrast image\n",
      "  warn('%s is a low contrast image' % fname)\n",
      "/usr/local/lib/python3.6/dist-packages/skimage/io/_io.py:140: UserWarning: preds_vinny/5048_pred.png is a low contrast image\n",
      "  warn('%s is a low contrast image' % fname)\n",
      "/usr/local/lib/python3.6/dist-packages/skimage/io/_io.py:140: UserWarning: preds_vinny/2735_pred.png is a low contrast image\n",
      "  warn('%s is a low contrast image' % fname)\n",
      "/usr/local/lib/python3.6/dist-packages/skimage/io/_io.py:140: UserWarning: preds_vinny/4781_pred.png is a low contrast image\n",
      "  warn('%s is a low contrast image' % fname)\n",
      "/usr/local/lib/python3.6/dist-packages/skimage/io/_io.py:140: UserWarning: preds_vinny/4518_pred.png is a low contrast image\n",
      "  warn('%s is a low contrast image' % fname)\n",
      "/usr/local/lib/python3.6/dist-packages/skimage/io/_io.py:140: UserWarning: preds_vinny/5358_pred.png is a low contrast image\n",
      "  warn('%s is a low contrast image' % fname)\n",
      "/usr/local/lib/python3.6/dist-packages/skimage/io/_io.py:140: UserWarning: preds_vinny/5200_pred.png is a low contrast image\n",
      "  warn('%s is a low contrast image' % fname)\n",
      "/usr/local/lib/python3.6/dist-packages/skimage/io/_io.py:140: UserWarning: preds_vinny/993_pred.png is a low contrast image\n",
      "  warn('%s is a low contrast image' % fname)\n",
      "/usr/local/lib/python3.6/dist-packages/skimage/io/_io.py:140: UserWarning: preds_vinny/246_pred.png is a low contrast image\n",
      "  warn('%s is a low contrast image' % fname)\n",
      "/usr/local/lib/python3.6/dist-packages/skimage/io/_io.py:140: UserWarning: preds_vinny/1091_pred.png is a low contrast image\n",
      "  warn('%s is a low contrast image' % fname)\n",
      "/usr/local/lib/python3.6/dist-packages/skimage/io/_io.py:140: UserWarning: preds_vinny/4556_pred.png is a low contrast image\n",
      "  warn('%s is a low contrast image' % fname)\n",
      "/usr/local/lib/python3.6/dist-packages/skimage/io/_io.py:140: UserWarning: preds_vinny/3373_pred.png is a low contrast image\n",
      "  warn('%s is a low contrast image' % fname)\n",
      "/usr/local/lib/python3.6/dist-packages/skimage/io/_io.py:140: UserWarning: preds_vinny/3695_pred.png is a low contrast image\n",
      "  warn('%s is a low contrast image' % fname)\n",
      "/usr/local/lib/python3.6/dist-packages/skimage/io/_io.py:140: UserWarning: preds_vinny/2313_pred.png is a low contrast image\n",
      "  warn('%s is a low contrast image' % fname)\n",
      "/usr/local/lib/python3.6/dist-packages/skimage/io/_io.py:140: UserWarning: preds_vinny/3528_pred.png is a low contrast image\n",
      "  warn('%s is a low contrast image' % fname)\n",
      "/usr/local/lib/python3.6/dist-packages/skimage/io/_io.py:140: UserWarning: preds_vinny/31_pred.png is a low contrast image\n",
      "  warn('%s is a low contrast image' % fname)\n",
      "/usr/local/lib/python3.6/dist-packages/skimage/io/_io.py:140: UserWarning: preds_vinny/3802_pred.png is a low contrast image\n",
      "  warn('%s is a low contrast image' % fname)\n",
      "/usr/local/lib/python3.6/dist-packages/skimage/io/_io.py:140: UserWarning: preds_vinny/5181_pred.png is a low contrast image\n",
      "  warn('%s is a low contrast image' % fname)\n",
      "/usr/local/lib/python3.6/dist-packages/skimage/io/_io.py:140: UserWarning: preds_vinny/4043_pred.png is a low contrast image\n",
      "  warn('%s is a low contrast image' % fname)\n",
      "/usr/local/lib/python3.6/dist-packages/skimage/io/_io.py:140: UserWarning: preds_vinny/4886_pred.png is a low contrast image\n",
      "  warn('%s is a low contrast image' % fname)\n",
      "/usr/local/lib/python3.6/dist-packages/skimage/io/_io.py:140: UserWarning: preds_vinny/4382_pred.png is a low contrast image\n",
      "  warn('%s is a low contrast image' % fname)\n",
      "/usr/local/lib/python3.6/dist-packages/skimage/io/_io.py:140: UserWarning: preds_vinny/1766_pred.png is a low contrast image\n",
      "  warn('%s is a low contrast image' % fname)\n",
      "/usr/local/lib/python3.6/dist-packages/skimage/io/_io.py:140: UserWarning: preds_vinny/5333_pred.png is a low contrast image\n",
      "  warn('%s is a low contrast image' % fname)\n",
      "/usr/local/lib/python3.6/dist-packages/skimage/io/_io.py:140: UserWarning: preds_vinny/4901_pred.png is a low contrast image\n",
      "  warn('%s is a low contrast image' % fname)\n",
      "/usr/local/lib/python3.6/dist-packages/skimage/io/_io.py:140: UserWarning: preds_vinny/4664_pred.png is a low contrast image\n",
      "  warn('%s is a low contrast image' % fname)\n",
      "/usr/local/lib/python3.6/dist-packages/skimage/io/_io.py:140: UserWarning: preds_vinny/4205_pred.png is a low contrast image\n",
      "  warn('%s is a low contrast image' % fname)\n",
      "/usr/local/lib/python3.6/dist-packages/skimage/io/_io.py:140: UserWarning: preds_vinny/630_pred.png is a low contrast image\n",
      "  warn('%s is a low contrast image' % fname)\n",
      "/usr/local/lib/python3.6/dist-packages/skimage/io/_io.py:140: UserWarning: preds_vinny/5439_pred.png is a low contrast image\n",
      "  warn('%s is a low contrast image' % fname)\n",
      "/usr/local/lib/python3.6/dist-packages/skimage/io/_io.py:140: UserWarning: preds_vinny/4656_pred.png is a low contrast image\n",
      "  warn('%s is a low contrast image' % fname)\n",
      "/usr/local/lib/python3.6/dist-packages/skimage/io/_io.py:140: UserWarning: preds_vinny/1721_pred.png is a low contrast image\n",
      "  warn('%s is a low contrast image' % fname)\n",
      "/usr/local/lib/python3.6/dist-packages/skimage/io/_io.py:140: UserWarning: preds_vinny/1838_pred.png is a low contrast image\n",
      "  warn('%s is a low contrast image' % fname)\n",
      "/usr/local/lib/python3.6/dist-packages/skimage/io/_io.py:140: UserWarning: preds_vinny/3770_pred.png is a low contrast image\n",
      "  warn('%s is a low contrast image' % fname)\n",
      "/usr/local/lib/python3.6/dist-packages/skimage/io/_io.py:140: UserWarning: preds_vinny/26_pred.png is a low contrast image\n",
      "  warn('%s is a low contrast image' % fname)\n",
      "/usr/local/lib/python3.6/dist-packages/skimage/io/_io.py:140: UserWarning: preds_vinny/1969_pred.png is a low contrast image\n",
      "  warn('%s is a low contrast image' % fname)\n",
      "/usr/local/lib/python3.6/dist-packages/skimage/io/_io.py:140: UserWarning: preds_vinny/1915_pred.png is a low contrast image\n",
      "  warn('%s is a low contrast image' % fname)\n",
      "/usr/local/lib/python3.6/dist-packages/skimage/io/_io.py:140: UserWarning: preds_vinny/728_pred.png is a low contrast image\n",
      "  warn('%s is a low contrast image' % fname)\n",
      "/usr/local/lib/python3.6/dist-packages/skimage/io/_io.py:140: UserWarning: preds_vinny/4143_pred.png is a low contrast image\n",
      "  warn('%s is a low contrast image' % fname)\n",
      "/usr/local/lib/python3.6/dist-packages/skimage/io/_io.py:140: UserWarning: preds_vinny/2002_pred.png is a low contrast image\n",
      "  warn('%s is a low contrast image' % fname)\n",
      "/usr/local/lib/python3.6/dist-packages/skimage/io/_io.py:140: UserWarning: preds_vinny/4406_pred.png is a low contrast image\n",
      "  warn('%s is a low contrast image' % fname)\n",
      "/usr/local/lib/python3.6/dist-packages/skimage/io/_io.py:140: UserWarning: preds_vinny/5365_pred.png is a low contrast image\n",
      "  warn('%s is a low contrast image' % fname)\n",
      "/usr/local/lib/python3.6/dist-packages/skimage/io/_io.py:140: UserWarning: preds_vinny/2932_pred.png is a low contrast image\n",
      "  warn('%s is a low contrast image' % fname)\n",
      "/usr/local/lib/python3.6/dist-packages/skimage/io/_io.py:140: UserWarning: preds_vinny/2686_pred.png is a low contrast image\n",
      "  warn('%s is a low contrast image' % fname)\n",
      "/usr/local/lib/python3.6/dist-packages/skimage/io/_io.py:140: UserWarning: preds_vinny/1855_pred.png is a low contrast image\n",
      "  warn('%s is a low contrast image' % fname)\n",
      "/usr/local/lib/python3.6/dist-packages/skimage/io/_io.py:140: UserWarning: preds_vinny/3713_pred.png is a low contrast image\n",
      "  warn('%s is a low contrast image' % fname)\n",
      "/usr/local/lib/python3.6/dist-packages/skimage/io/_io.py:140: UserWarning: preds_vinny/2360_pred.png is a low contrast image\n",
      "  warn('%s is a low contrast image' % fname)\n",
      "/usr/local/lib/python3.6/dist-packages/skimage/io/_io.py:140: UserWarning: preds_vinny/3280_pred.png is a low contrast image\n",
      "  warn('%s is a low contrast image' % fname)\n",
      "/usr/local/lib/python3.6/dist-packages/skimage/io/_io.py:140: UserWarning: preds_vinny/1737_pred.png is a low contrast image\n",
      "  warn('%s is a low contrast image' % fname)\n",
      "/usr/local/lib/python3.6/dist-packages/skimage/io/_io.py:140: UserWarning: preds_vinny/1090_pred.png is a low contrast image\n",
      "  warn('%s is a low contrast image' % fname)\n",
      "/usr/local/lib/python3.6/dist-packages/skimage/io/_io.py:140: UserWarning: preds_vinny/3173_pred.png is a low contrast image\n",
      "  warn('%s is a low contrast image' % fname)\n",
      "/usr/local/lib/python3.6/dist-packages/skimage/io/_io.py:140: UserWarning: preds_vinny/5032_pred.png is a low contrast image\n",
      "  warn('%s is a low contrast image' % fname)\n",
      "/usr/local/lib/python3.6/dist-packages/skimage/io/_io.py:140: UserWarning: preds_vinny/5322_pred.png is a low contrast image\n",
      "  warn('%s is a low contrast image' % fname)\n",
      "/usr/local/lib/python3.6/dist-packages/skimage/io/_io.py:140: UserWarning: preds_vinny/4834_pred.png is a low contrast image\n",
      "  warn('%s is a low contrast image' % fname)\n",
      "/usr/local/lib/python3.6/dist-packages/skimage/io/_io.py:140: UserWarning: preds_vinny/5502_pred.png is a low contrast image\n",
      "  warn('%s is a low contrast image' % fname)\n",
      "/usr/local/lib/python3.6/dist-packages/skimage/io/_io.py:140: UserWarning: preds_vinny/3785_pred.png is a low contrast image\n",
      "  warn('%s is a low contrast image' % fname)\n",
      "/usr/local/lib/python3.6/dist-packages/skimage/io/_io.py:140: UserWarning: preds_vinny/3560_pred.png is a low contrast image\n",
      "  warn('%s is a low contrast image' % fname)\n"
     ]
    }
   ],
   "source": [
    "print('-' * 30)\n",
    "print('Saving predicted masks to files...')\n",
    "print('-' * 30)\n",
    "pred_dir = 'preds_vinny'\n",
    "if not os.path.exists(pred_dir):\n",
    "    os.mkdir(pred_dir)\n",
    "for image, image_id in zip(imgs_mask_test, test_id):\n",
    "    image = (image[:, :, 0] * 255.).astype(np.uint8)\n",
    "    imsave(os.path.join(pred_dir, str(image_id) + '_pred.png'), image)"
   ]
  },
  {
   "cell_type": "code",
   "execution_count": 36,
   "metadata": {},
   "outputs": [],
   "source": [
    "def prep(img):\n",
    "    (image_cols, image_rows) = (580, 420)\n",
    "    img = img.astype('float32')\n",
    "    img = (img > 0.5).astype(np.uint8)  # threshold\n",
    "    img = resize(img, (image_cols, image_rows), preserve_range=True)\n",
    "    return img\n",
    "\n",
    "\n",
    "def run_length_enc(label):\n",
    "    from itertools import chain\n",
    "    x = label.transpose().flatten()\n",
    "    y = np.where(x > 0)[0]\n",
    "    if len(y) < 10:  # consider as empty\n",
    "        return ''\n",
    "    z = np.where(np.diff(y) > 1)[0]\n",
    "    start = np.insert(y[z+1], 0, y[0])\n",
    "    end = np.append(y[z], y[-1])\n",
    "    length = end - start\n",
    "    res = [[s+1, l+1] for s, l in zip(list(start), list(length))]\n",
    "    res = list(chain.from_iterable(res))\n",
    "    return ' '.join([str(r) for r in res])\n",
    "\n",
    "\n",
    "def submission(imgs_id_test):\n",
    "    imgs_test = np.load('imgs_mask_test.npy')\n",
    "\n",
    "    argsort = np.argsort(test_id)\n",
    "    imgs_id_test = np.array(imgs_id_test)[argsort]\n",
    "    imgs_test = np.array(imgs_test)[argsort]\n",
    "\n",
    "    total = imgs_test.shape[0]\n",
    "    ids = []\n",
    "    rles = []\n",
    "    for i in range(total):\n",
    "        img = imgs_test[i]\n",
    "        img = prep(img)\n",
    "        rle = run_length_enc(img)\n",
    "\n",
    "        rles.append(rle)\n",
    "        ids.append(imgs_id_test[i])\n",
    "\n",
    "        if i % 100 == 0:\n",
    "            print('{}/{}'.format(i, total))\n",
    "\n",
    "    first_row = 'img,pixels'\n",
    "    file_name = 'submission.csv'\n",
    "\n",
    "    with open(file_name, 'w+') as f:\n",
    "        f.write(first_row + '\\n')\n",
    "        for i in range(total):\n",
    "            s = str(ids[i]) + ',' + rles[i]\n",
    "            f.write(s + '\\n')"
   ]
  },
  {
   "cell_type": "code",
   "execution_count": null,
   "metadata": {},
   "outputs": [],
   "source": []
  },
  {
   "cell_type": "code",
   "execution_count": null,
   "metadata": {},
   "outputs": [],
   "source": []
  },
  {
   "cell_type": "code",
   "execution_count": 24,
   "metadata": {},
   "outputs": [],
   "source": [
    "imgs_test = np.load('imgs_mask_test.npy')\n",
    "\n",
    "argsort = np.argsort(test_id)\n",
    "imgs_id_test = np.array(test_id)[argsort]\n",
    "imgs_test = np.array(imgs_test)[argsort]\n",
    "\n",
    "total = imgs_test.shape[0]\n",
    "ids = []\n",
    "rles = []\n",
    "for i in range(total):\n",
    "    img = imgs_test[i, 0]\n",
    "    img = prep(img)\n",
    "    rle = run_length_enc(img)\n",
    "\n",
    "    rles.append(rle)\n",
    "    ids.append(imgs_id_test[i])\n",
    "\n",
    "    break\n",
    "    if i % 100 == 0:\n",
    "        print('{}/{}'.format(i, total))\n",
    "\n",
    "# first_row = 'img,pixels'\n",
    "# file_name = 'submission.csv'\n",
    "\n",
    "# with open(file_name, 'w+') as f:\n",
    "#     f.write(first_row + '\\n')\n",
    "#     for i in range(total):\n",
    "#         s = str(ids[i]) + ',' + rles[pi]\n",
    "#         f.write(s + '\\n')"
   ]
  },
  {
   "cell_type": "code",
   "execution_count": 35,
   "metadata": {},
   "outputs": [
    {
     "data": {
      "text/plain": [
       "(400, 1)"
      ]
     },
     "execution_count": 35,
     "metadata": {},
     "output_type": "execute_result"
    }
   ],
   "source": [
    "imgs_test[0,0].shape"
   ]
  },
  {
   "cell_type": "code",
   "execution_count": null,
   "metadata": {},
   "outputs": [],
   "source": []
  },
  {
   "cell_type": "code",
   "execution_count": 34,
   "metadata": {},
   "outputs": [
    {
     "data": {
      "text/plain": [
       "'27481 4 27486 9 28059 21 28639 21 29216 24 29791 29 30368 30 30942 36 31517 41 32096 42 32673 44 33250 47 33827 50 34404 51 34982 53 35559 56 36139 56 36719 56 37297 57 37876 58 38454 58 39034 58 39611 61 40190 59 40768 61 41348 61 41926 62 42506 60 43084 61 43663 59 44241 61 44820 58 45398 58 45977 58 46555 58 47134 54 47713 53 48291 54 48871 54 49451 51 50028 51 50608 48 51187 45 51767 45 52347 40 52927 37 53051 3 53507 35 53627 3 53631 5 54087 32 54206 14 54671 23 54783 21 55253 14 55360 26 55840 6 55938 29 56518 29 57097 35 57674 39 57790 6 58254 39 58367 13 58834 41 58944 22 59411 45 59523 24 59988 50 60101 29 60568 50 60680 32 61148 50 61260 32 61728 50 61840 38 62308 50 62417 45 62888 50 62997 51 63468 48 63576 56 64047 48 64156 65 64627 48 64736 69 65208 45 65316 72 65788 44 65896 73 66370 40 66474 78 66950 39 67054 81 67531 38 67634 81 68111 39 68214 83 68691 39 68793 84 69271 39 69373 81 69851 41 69953 81 70431 41 70530 84 71011 41 71107 87 71591 42 71684 85 72173 40 72215 3 72261 87 72753 40 72795 3 72841 86 73333 40 73375 3 73421 86 73911 47 73998 87 74491 47 74578 83 75073 45 75155 81 75653 45 75734 75 76233 46 76312 77 76813 46 76891 74 77393 45 77469 74 77973 45 78048 74 78553 45 78628 71 79133 46 79199 73 79711 48 79776 71 80291 48 80353 72 80870 49 80933 69 81450 49 81516 64 82030 49 82096 64 82610 48 82676 61 83190 46 83256 58 83770 46 83836 55 84350 43 84419 50 84930 43 85001 45 85510 43 85581 45 86090 43 86161 43 86670 43 86745 38 87248 45 87327 31 87828 44 87907 2 87911 20 88408 44 88487 2 88492 15 88990 43 89570 43 90150 43 90730 43 91310 42 91890 42 92470 42 93050 40 93631 39 94211 39 94791 38 95371 36 95954 33 96534 33 97115 31 97695 31 98275 31 98857 27 99438 24 100020 19 100601 16 117298 3 117302 16 117321 3 117877 33 118452 44 119029 48 119608 49 120146 4 120185 54 120723 13 120765 55 121301 18 121342 58 121881 18 121922 58 122460 22 122499 63 123040 26 123076 66 123620 102 124199 104 124779 104 125359 104 125939 104 126517 106 127097 107 127677 107 128257 107 128837 107 129417 107 129997 109 130577 109 131157 109 131737 110 132317 110 132897 110 133477 110 134057 110 134637 112 135217 112 135797 112 136377 112 136957 112 137539 111 138120 110 138700 110 139280 109 139861 109 140443 107 140697 19 141023 107 141275 25 141603 106 141848 39 142184 105 142422 47 142766 103 142999 54 143347 102 143578 56 143929 97 144156 63 144515 2 144519 6 144530 73 144733 67 145118 30 145157 3 145161 18 145313 69 145708 3 145747 3 145891 72 146288 3 146327 3 146471 72 147051 75 147631 76 148211 78 148789 81 149369 83 149949 86 150529 87 151112 86 151692 90 152271 91 152851 91 153431 92 154011 92 154596 90 155179 87 155759 89 156339 90 156919 92 157499 93 158081 91 158661 91 159241 94 159825 90 160407 88 160989 86 161572 82 162158 73 162741 52 162795 14 163328 16 163346 10 163357 3 163910 4 163916 4 163921 3 163927 3 163933 3 176770 3 177350 3 185777 16 186356 21 186933 29 187511 32 188090 35 188670 36 189247 39 189827 39 190406 40 190984 42 191564 42 192144 42 192723 43 193301 45 193881 45 194461 44 195041 44 195623 42 196203 39 196784 36 197366 33 197947 32 198530 25 199049 3 199110 23 199628 11 199697 9 200197 27 200776 36 201350 45 201929 46 202506 51 203084 54 203663 56 204243 56 204820 58 205399 60 205979 60 206557 62 207137 62 207717 62 208297 64 208876 65 209456 63 210036 63 210616 63 211196 63 211776 63 212356 63 212936 62 213516 62 214096 62 214676 62 215256 61 215836 61 216416 59 216996 59 217576 59 218156 58 218736 56 219316 56 219897 55 220477 54 221057 54 221637 52 222217 52 222799 47 223379 47 223960 46 224540 45 225121 41 225703 39 226283 36 226863 35 227447 26 228029 20 228617 8'"
      ]
     },
     "execution_count": 34,
     "metadata": {},
     "output_type": "execute_result"
    }
   ],
   "source": [
    "run_length_enc(prep(imgs_test[0]))"
   ]
  },
  {
   "cell_type": "code",
   "execution_count": null,
   "metadata": {},
   "outputs": [],
   "source": []
  },
  {
   "cell_type": "code",
   "execution_count": null,
   "metadata": {},
   "outputs": [],
   "source": []
  },
  {
   "cell_type": "code",
   "execution_count": null,
   "metadata": {},
   "outputs": [],
   "source": []
  },
  {
   "cell_type": "code",
   "execution_count": 37,
   "metadata": {},
   "outputs": [
    {
     "name": "stdout",
     "output_type": "stream",
     "text": [
      "Generating submission\n"
     ]
    },
    {
     "name": "stderr",
     "output_type": "stream",
     "text": [
      "/usr/local/lib/python3.6/dist-packages/skimage/transform/_warps.py:105: UserWarning: The default mode, 'constant', will be changed to 'reflect' in skimage 0.15.\n",
      "  warn(\"The default mode, 'constant', will be changed to 'reflect' in \"\n",
      "/usr/local/lib/python3.6/dist-packages/skimage/transform/_warps.py:110: UserWarning: Anti-aliasing will be enabled by default in skimage 0.15 to avoid aliasing artifacts when down-sampling images.\n",
      "  warn(\"Anti-aliasing will be enabled by default in skimage 0.15 to \"\n"
     ]
    },
    {
     "name": "stdout",
     "output_type": "stream",
     "text": [
      "0/5508\n",
      "100/5508\n",
      "200/5508\n",
      "300/5508\n",
      "400/5508\n",
      "500/5508\n",
      "600/5508\n",
      "700/5508\n",
      "800/5508\n",
      "900/5508\n",
      "1000/5508\n",
      "1100/5508\n",
      "1200/5508\n",
      "1300/5508\n",
      "1400/5508\n",
      "1500/5508\n",
      "1600/5508\n",
      "1700/5508\n",
      "1800/5508\n",
      "1900/5508\n",
      "2000/5508\n",
      "2100/5508\n",
      "2200/5508\n",
      "2300/5508\n",
      "2400/5508\n",
      "2500/5508\n",
      "2600/5508\n",
      "2700/5508\n",
      "2800/5508\n",
      "2900/5508\n",
      "3000/5508\n",
      "3100/5508\n",
      "3200/5508\n",
      "3300/5508\n",
      "3400/5508\n",
      "3500/5508\n",
      "3600/5508\n",
      "3700/5508\n",
      "3800/5508\n",
      "3900/5508\n",
      "4000/5508\n",
      "4100/5508\n",
      "4200/5508\n",
      "4300/5508\n",
      "4400/5508\n",
      "4500/5508\n",
      "4600/5508\n",
      "4700/5508\n",
      "4800/5508\n",
      "4900/5508\n",
      "5000/5508\n",
      "5100/5508\n",
      "5200/5508\n",
      "5300/5508\n",
      "5400/5508\n",
      "5500/5508\n"
     ]
    }
   ],
   "source": [
    "print(\"Generating submission\")\n",
    "submission(test_id)"
   ]
  },
  {
   "cell_type": "code",
   "execution_count": null,
   "metadata": {},
   "outputs": [],
   "source": []
  }
 ],
 "metadata": {
  "kernelspec": {
   "display_name": "Python 3",
   "language": "python",
   "name": "python3"
  },
  "language_info": {
   "codemirror_mode": {
    "name": "ipython",
    "version": 3
   },
   "file_extension": ".py",
   "mimetype": "text/x-python",
   "name": "python",
   "nbconvert_exporter": "python",
   "pygments_lexer": "ipython3",
   "version": "3.6.7"
  },
  "toc": {
   "base_numbering": 1,
   "nav_menu": {},
   "number_sections": true,
   "sideBar": true,
   "skip_h1_title": false,
   "title_cell": "Table of Contents",
   "title_sidebar": "Contents",
   "toc_cell": false,
   "toc_position": {},
   "toc_section_display": true,
   "toc_window_display": false
  }
 },
 "nbformat": 4,
 "nbformat_minor": 2
}
